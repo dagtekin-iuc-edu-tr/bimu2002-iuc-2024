{
 "cells": [
  {
   "cell_type": "code",
   "execution_count": 1,
   "metadata": {},
   "outputs": [],
   "source": [
    "import numpy as np"
   ]
  },
  {
   "cell_type": "code",
   "execution_count": 6,
   "metadata": {},
   "outputs": [],
   "source": [
    "from IPython.display import display, Math\n",
    "\n",
    "def print_matrix(array):\n",
    "    matrix = ''\n",
    "    for row in array:\n",
    "        try:\n",
    "            for number in row:\n",
    "                matrix += f'{number:.2f}&'\n",
    "        except TypeError:\n",
    "            matrix += f'{row}&'\n",
    "        matrix = matrix[:-1] + r'\\\\'\n",
    "    display(Math(r'\\begin{bmatrix*}[r]'+matrix+r'\\end{bmatrix*}'))"
   ]
  },
  {
   "cell_type": "code",
   "execution_count": 24,
   "metadata": {},
   "outputs": [
    {
     "data": {
      "text/latex": [
       "$\\displaystyle \\begin{bmatrix*}[r]1.00&-2.00&3.00\\\\2.00&4.00&5.00\\\\5.00&6.00&7.00\\\\\\end{bmatrix*}$"
      ],
      "text/plain": [
       "<IPython.core.display.Math object>"
      ]
     },
     "metadata": {},
     "output_type": "display_data"
    },
    {
     "data": {
      "text/latex": [
       "$\\displaystyle \\begin{bmatrix*}[r]3\\\\2\\\\-2\\\\\\end{bmatrix*}$"
      ],
      "text/plain": [
       "<IPython.core.display.Math object>"
      ]
     },
     "metadata": {},
     "output_type": "display_data"
    }
   ],
   "source": [
    "A = np.array([[1, -2, 3], [2, 4, 5], [5, 6, 7]])\n",
    "b = np.array([3, 2, -2])\n",
    "\n",
    "print_matrix(A)\n",
    "print_matrix(b)"
   ]
  },
  {
   "cell_type": "code",
   "execution_count": 25,
   "metadata": {},
   "outputs": [
    {
     "name": "stdout",
     "output_type": "stream",
     "text": [
      "[-2.125  -0.3125  1.5   ]\n"
     ]
    }
   ],
   "source": [
    "x = np.linalg.solve(A, b)\n",
    "print(x)"
   ]
  },
  {
   "cell_type": "markdown",
   "metadata": {},
   "source": [
    "# GAUSS Metodu 1"
   ]
  },
  {
   "cell_type": "code",
   "execution_count": 26,
   "metadata": {},
   "outputs": [
    {
     "data": {
      "text/latex": [
       "$\\displaystyle \\begin{bmatrix*}[r]1.00&-2.00&3.00&3.00\\\\2.00&4.00&5.00&2.00\\\\5.00&6.00&7.00&-2.00\\\\\\end{bmatrix*}$"
      ],
      "text/plain": [
       "<IPython.core.display.Math object>"
      ]
     },
     "metadata": {},
     "output_type": "display_data"
    }
   ],
   "source": [
    "# Genişletilmiş matris\n",
    "\n",
    "Ab = np.column_stack((A, b))\n",
    "\n",
    "print_matrix(Ab)"
   ]
  },
  {
   "cell_type": "code",
   "execution_count": 27,
   "metadata": {},
   "outputs": [
    {
     "name": "stdout",
     "output_type": "stream",
     "text": [
      "3 4\n"
     ]
    }
   ],
   "source": [
    "rows = Ab.shape[0]\n",
    "cols = Ab.shape[1]\n",
    "\n",
    "print(rows, cols)"
   ]
  },
  {
   "cell_type": "code",
   "execution_count": 28,
   "metadata": {},
   "outputs": [
    {
     "name": "stdout",
     "output_type": "stream",
     "text": [
      "Column 0\n"
     ]
    },
    {
     "data": {
      "text/latex": [
       "$\\displaystyle \\begin{bmatrix*}[r]1.00&-2.00&3.00&3.00\\\\0.00&8.00&-1.00&-4.00\\\\5.00&6.00&7.00&-2.00\\\\\\end{bmatrix*}$"
      ],
      "text/plain": [
       "<IPython.core.display.Math object>"
      ]
     },
     "metadata": {},
     "output_type": "display_data"
    },
    {
     "data": {
      "text/latex": [
       "$\\displaystyle \\begin{bmatrix*}[r]1.00&-2.00&3.00&3.00\\\\0.00&8.00&-1.00&-4.00\\\\0.00&16.00&-8.00&-17.00\\\\\\end{bmatrix*}$"
      ],
      "text/plain": [
       "<IPython.core.display.Math object>"
      ]
     },
     "metadata": {},
     "output_type": "display_data"
    },
    {
     "name": "stdout",
     "output_type": "stream",
     "text": [
      "Column 1\n"
     ]
    },
    {
     "data": {
      "text/latex": [
       "$\\displaystyle \\begin{bmatrix*}[r]1.00&-2.00&3.00&3.00\\\\0.00&8.00&-1.00&-4.00\\\\0.00&0.00&-6.00&-9.00\\\\\\end{bmatrix*}$"
      ],
      "text/plain": [
       "<IPython.core.display.Math object>"
      ]
     },
     "metadata": {},
     "output_type": "display_data"
    },
    {
     "name": "stdout",
     "output_type": "stream",
     "text": [
      "Column 2\n",
      "Column 3\n"
     ]
    }
   ],
   "source": [
    "for j in range(cols):\n",
    "    print (f'Column {j}')\n",
    "    for i in np.arange(j, rows-1, 1):\n",
    "        # print (f'Row {i}')\n",
    "        Ab[i+1, j:] = Ab[j,j:].copy() * ( -1*Ab[i+1, j] / Ab[j, j] ) + Ab[i+1, j:].copy()\n",
    "        print_matrix(Ab)"
   ]
  },
  {
   "cell_type": "markdown",
   "metadata": {},
   "source": [
    "-- Bundan sonraki adımda bilinmeyenlerin değeri bulunur. Mesela:\n",
    "    \n",
    "$$ x[2] = \\frac{Ab[2,3]}{Ab[2,2]}$$\n",
    "\n",
    "$$ x[1] = \\frac{Ab[1,2] \\times x[2]}{Ab[1,1]} $$\n",
    "\n",
    "sonra da $x_3$ bulunur. "
   ]
  },
  {
   "cell_type": "code",
   "execution_count": 33,
   "metadata": {},
   "outputs": [
    {
     "name": "stdout",
     "output_type": "stream",
     "text": [
      "Column 2\n",
      "Column 1\n",
      "Column 0\n",
      "[-1.   -0.25  1.5 ]\n"
     ]
    }
   ],
   "source": [
    "# geriye eleme işlemi\n",
    "\n",
    ".... ödev\n"
   ]
  },
  {
   "cell_type": "code",
   "execution_count": 36,
   "metadata": {},
   "outputs": [
    {
     "name": "stdout",
     "output_type": "stream",
     "text": [
      "1 0\n"
     ]
    },
    {
     "data": {
      "text/latex": [
       "$\\displaystyle \\begin{bmatrix*}[r]1.00&0.00&0.00&-1.00\\\\0.00&1.00&0.00&0.00\\\\0.00&0.00&1.00&1.00\\\\\\end{bmatrix*}$"
      ],
      "text/plain": [
       "<IPython.core.display.Math object>"
      ]
     },
     "metadata": {},
     "output_type": "display_data"
    },
    {
     "name": "stdout",
     "output_type": "stream",
     "text": [
      "2 0\n"
     ]
    },
    {
     "data": {
      "text/latex": [
       "$\\displaystyle \\begin{bmatrix*}[r]1.00&0.00&0.00&-1.00\\\\0.00&1.00&0.00&0.00\\\\0.00&0.00&1.00&1.00\\\\\\end{bmatrix*}$"
      ],
      "text/plain": [
       "<IPython.core.display.Math object>"
      ]
     },
     "metadata": {},
     "output_type": "display_data"
    },
    {
     "name": "stdout",
     "output_type": "stream",
     "text": [
      "0 1\n"
     ]
    },
    {
     "data": {
      "text/latex": [
       "$\\displaystyle \\begin{bmatrix*}[r]1.00&0.00&0.00&-1.00\\\\0.00&1.00&0.00&0.00\\\\0.00&0.00&1.00&1.00\\\\\\end{bmatrix*}$"
      ],
      "text/plain": [
       "<IPython.core.display.Math object>"
      ]
     },
     "metadata": {},
     "output_type": "display_data"
    },
    {
     "name": "stdout",
     "output_type": "stream",
     "text": [
      "2 1\n"
     ]
    },
    {
     "data": {
      "text/latex": [
       "$\\displaystyle \\begin{bmatrix*}[r]1.00&0.00&0.00&-1.00\\\\0.00&1.00&0.00&0.00\\\\0.00&0.00&1.00&1.00\\\\\\end{bmatrix*}$"
      ],
      "text/plain": [
       "<IPython.core.display.Math object>"
      ]
     },
     "metadata": {},
     "output_type": "display_data"
    },
    {
     "name": "stdout",
     "output_type": "stream",
     "text": [
      "0 2\n"
     ]
    },
    {
     "data": {
      "text/latex": [
       "$\\displaystyle \\begin{bmatrix*}[r]1.00&0.00&0.00&-1.00\\\\0.00&1.00&0.00&0.00\\\\0.00&0.00&1.00&1.00\\\\\\end{bmatrix*}$"
      ],
      "text/plain": [
       "<IPython.core.display.Math object>"
      ]
     },
     "metadata": {},
     "output_type": "display_data"
    },
    {
     "name": "stdout",
     "output_type": "stream",
     "text": [
      "1 2\n"
     ]
    },
    {
     "data": {
      "text/latex": [
       "$\\displaystyle \\begin{bmatrix*}[r]1.00&0.00&0.00&-1.00\\\\0.00&1.00&0.00&0.00\\\\0.00&0.00&1.00&1.00\\\\\\end{bmatrix*}$"
      ],
      "text/plain": [
       "<IPython.core.display.Math object>"
      ]
     },
     "metadata": {},
     "output_type": "display_data"
    },
    {
     "data": {
      "text/latex": [
       "$\\displaystyle \\begin{bmatrix*}[r]1.00&0.00&0.00&-1.00\\\\0.00&1.00&0.00&0.00\\\\0.00&0.00&1.00&1.00\\\\\\end{bmatrix*}$"
      ],
      "text/plain": [
       "<IPython.core.display.Math object>"
      ]
     },
     "metadata": {},
     "output_type": "display_data"
    },
    {
     "name": "stdout",
     "output_type": "stream",
     "text": [
      "[-1.  0.  1.]\n"
     ]
    }
   ],
   "source": [
    "# satır indirgenmiş eşelon forma çevirelim\n",
    "\n",
    "# ödev ..."
   ]
  }
 ],
 "metadata": {
  "kernelspec": {
   "display_name": "bimu2002",
   "language": "python",
   "name": "python3"
  },
  "language_info": {
   "codemirror_mode": {
    "name": "ipython",
    "version": 3
   },
   "file_extension": ".py",
   "mimetype": "text/x-python",
   "name": "python",
   "nbconvert_exporter": "python",
   "pygments_lexer": "ipython3",
   "version": "3.10.12"
  }
 },
 "nbformat": 4,
 "nbformat_minor": 2
}
